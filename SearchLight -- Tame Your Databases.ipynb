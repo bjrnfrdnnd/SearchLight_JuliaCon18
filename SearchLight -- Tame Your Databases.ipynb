{
 "cells": [
  {
   "cell_type": "markdown",
   "metadata": {},
   "source": [
    "# A Todo app in 5 minutes"
   ]
  },
  {
   "cell_type": "code",
   "execution_count": null,
   "metadata": {},
   "outputs": [],
   "source": [
    "# Pkg.clone(\"https://github.com/essenciary/SearchLight.jl\") ### Only supports v0.7 and up"
   ]
  },
  {
   "cell_type": "code",
   "execution_count": null,
   "metadata": {},
   "outputs": [],
   "source": [
    "using Dates\n",
    "\n",
    "mutable struct Todo\n",
    "    subject::String\n",
    "    completed::Bool\n",
    "    due_at::Date\n",
    "end"
   ]
  },
  {
   "cell_type": "markdown",
   "metadata": {},
   "source": [
    "And add nice rendering."
   ]
  },
  {
   "cell_type": "code",
   "execution_count": null,
   "metadata": {},
   "outputs": [],
   "source": [
    "import Base.show\n",
    "\n",
    "function show(io::IO, t::Todo)\n",
    "  time_diff = t.due_at - Dates.today()\n",
    "  time_diff = time_diff < Dates.Day(0) ? -time_diff : time_diff\n",
    "\n",
    "  Base.printstyled(\n",
    "    io,\n",
    "    (t.completed ? \"✅\" : \"❌\") * \" \" * \n",
    "    t.subject *\n",
    "    (t.completed ? \" \" : (t.due_at < Dates.today() ? \" (due $time_diff ago)\" : \" due in $time_diff\")),\n",
    "    color = (t.due_at < Dates.today() ? :red : :green)\n",
    "  )\n",
    "end"
   ]
  },
  {
   "cell_type": "code",
   "execution_count": null,
   "metadata": {},
   "outputs": [],
   "source": [
    "Todo(\"Hello JuliaCon\", false, Dates.today())"
   ]
  },
  {
   "cell_type": "code",
   "execution_count": null,
   "metadata": {},
   "outputs": [],
   "source": [
    "Todo(\"This is important!\", false, Dates.today() + Dates.Day(3))"
   ]
  },
  {
   "cell_type": "code",
   "execution_count": null,
   "metadata": {},
   "outputs": [],
   "source": [
    "Todo(\"This is done\", true, Dates.today())"
   ]
  },
  {
   "cell_type": "code",
   "execution_count": null,
   "metadata": {},
   "outputs": [],
   "source": [
    "Todo(\"This is overdue!\", false, Dates.today() - Dates.Day(3))"
   ]
  },
  {
   "cell_type": "markdown",
   "metadata": {},
   "source": [
    "## Adding persistence"
   ]
  },
  {
   "cell_type": "code",
   "execution_count": null,
   "metadata": {},
   "outputs": [],
   "source": [
    "exit() # restarting the kernel"
   ]
  },
  {
   "cell_type": "markdown",
   "metadata": {},
   "source": [
    "To turn our object into a model we need to: \n",
    "* extend `AbstractModel`\n",
    "* add an identity property (of type `DbId`)"
   ]
  },
  {
   "cell_type": "code",
   "execution_count": null,
   "metadata": {},
   "outputs": [],
   "source": [
    "using Dates, SearchLight\n",
    "\n",
    "mutable struct Todo <: AbstractModel\n",
    "    subject::String\n",
    "    completed::Bool\n",
    "    due_at::Date\n",
    "    \n",
    "    id::DbId\n",
    "end"
   ]
  },
  {
   "cell_type": "markdown",
   "metadata": {},
   "source": [
    "Optional but very useful: a default keywords constructor"
   ]
  },
  {
   "cell_type": "code",
   "execution_count": null,
   "metadata": {
    "scrolled": true
   },
   "outputs": [],
   "source": [
    "Todo(; \n",
    "    subject = \"Your todo here\", \n",
    "    completed = false, \n",
    "    due_at = Dates.today() + Dates.Day(7)\n",
    ") = Todo(subject, completed, due_at, DbId())"
   ]
  },
  {
   "cell_type": "markdown",
   "metadata": {},
   "source": [
    "SearchLight employes the concept of `Migrations` to manage the database schema. \n",
    "\n",
    "_Schema migration refers to the management of incremental, reversible changes to relational database schemas._ (Wikipedia)\n",
    "\n",
    "It uses Julia files and a simple DSL to write database independent migrations. These are placed under version control and need to be hosted on the local file system. "
   ]
  },
  {
   "cell_type": "code",
   "execution_count": null,
   "metadata": {},
   "outputs": [],
   "source": [
    "SearchLight.config.db_migrations_folder = \".\""
   ]
  },
  {
   "cell_type": "markdown",
   "metadata": {},
   "source": [
    "It's time to connect to the database."
   ]
  },
  {
   "cell_type": "code",
   "execution_count": null,
   "metadata": {},
   "outputs": [],
   "source": [
    "Dict(\n",
    "    \"host\"     => \"127.0.0.1\",\n",
    "    \"username\" => \"adrian\",\n",
    "    \"port\"     => 5432, \n",
    "    \"database\" => \"todoapp_dev\",\n",
    "    \"adapter\"  => \"PostgreSQL\") |> SearchLight.Database.connect!"
   ]
  },
  {
   "cell_type": "markdown",
   "metadata": {},
   "source": [
    "SearchLight uses the database itself to keep track of the migrations. For a new database we need to \"initialise\" it (first time only). "
   ]
  },
  {
   "cell_type": "code",
   "execution_count": null,
   "metadata": {
    "scrolled": false
   },
   "outputs": [],
   "source": [
    "SearchLight.db_init()"
   ]
  },
  {
   "cell_type": "markdown",
   "metadata": {},
   "source": [
    "Now we can create a migration for our table. "
   ]
  },
  {
   "cell_type": "code",
   "execution_count": null,
   "metadata": {},
   "outputs": [],
   "source": [
    "SearchLight.table_name(Todo) |> SearchLight.Generator.new_table_migration"
   ]
  },
  {
   "cell_type": "markdown",
   "metadata": {},
   "source": [
    "Edit the migration file. \n",
    "\n",
    "Notice: \n",
    "* the file name contains the generation timestamp to avoid name clashes with other developers\n",
    "* simple DSL: reads like English\n",
    "* Julia-like types (no fiddling with DB specific types)\n",
    "* database independent\n",
    "* includes features for creating and droping tables and adding and removing columns and indexes"
   ]
  },
  {
   "cell_type": "code",
   "execution_count": null,
   "metadata": {},
   "outputs": [],
   "source": [
    "Migration.status()"
   ]
  },
  {
   "cell_type": "code",
   "execution_count": null,
   "metadata": {},
   "outputs": [],
   "source": [
    "Migration.last_up()"
   ]
  },
  {
   "cell_type": "code",
   "execution_count": null,
   "metadata": {
    "scrolled": true
   },
   "outputs": [],
   "source": [
    "Migration.status()"
   ]
  },
  {
   "cell_type": "markdown",
   "metadata": {},
   "source": [
    "Let's make it easy to create random `Todo`s"
   ]
  },
  {
   "cell_type": "code",
   "execution_count": null,
   "metadata": {},
   "outputs": [],
   "source": [
    "using Faker\n",
    "\n",
    "function random()\n",
    "  Todo(subject = Faker.sentence(), completed = rand([true,false]), due_at = Dates.today() + Dates.Day(rand(-30:30)))\n",
    "end"
   ]
  },
  {
   "cell_type": "code",
   "execution_count": null,
   "metadata": {},
   "outputs": [],
   "source": [
    "todo = random()"
   ]
  },
  {
   "cell_type": "markdown",
   "metadata": {},
   "source": [
    "We can now check if the `Todo`s are persisted or not."
   ]
  },
  {
   "cell_type": "code",
   "execution_count": null,
   "metadata": {},
   "outputs": [],
   "source": [
    "is_persisted(todo)"
   ]
  },
  {
   "cell_type": "markdown",
   "metadata": {},
   "source": [
    "And we can persist them!"
   ]
  },
  {
   "cell_type": "code",
   "execution_count": null,
   "metadata": {
    "scrolled": true
   },
   "outputs": [],
   "source": [
    "save!(todo)"
   ]
  },
  {
   "cell_type": "code",
   "execution_count": null,
   "metadata": {},
   "outputs": [],
   "source": [
    "is_persisted(todo)"
   ]
  },
  {
   "cell_type": "code",
   "execution_count": null,
   "metadata": {},
   "outputs": [],
   "source": [
    "todo.subject = \"Hello JuliaCon!\""
   ]
  },
  {
   "cell_type": "code",
   "execution_count": null,
   "metadata": {},
   "outputs": [],
   "source": [
    "save!(todo)"
   ]
  },
  {
   "cell_type": "markdown",
   "metadata": {},
   "source": [
    "Let's go crazy with getting things done!"
   ]
  },
  {
   "cell_type": "code",
   "execution_count": null,
   "metadata": {},
   "outputs": [],
   "source": [
    "for i in 1:20 \n",
    "    save(random())\n",
    "end"
   ]
  },
  {
   "cell_type": "markdown",
   "metadata": {},
   "source": [
    "Now we have data to play with."
   ]
  },
  {
   "cell_type": "code",
   "execution_count": null,
   "metadata": {},
   "outputs": [],
   "source": [
    "all(Todo)"
   ]
  },
  {
   "cell_type": "code",
   "execution_count": null,
   "metadata": {},
   "outputs": [],
   "source": [
    "first(Todo)"
   ]
  },
  {
   "cell_type": "code",
   "execution_count": null,
   "metadata": {},
   "outputs": [],
   "source": [
    "last(Todo)"
   ]
  },
  {
   "cell_type": "code",
   "execution_count": null,
   "metadata": {},
   "outputs": [],
   "source": [
    "rand(Todo)"
   ]
  },
  {
   "cell_type": "code",
   "execution_count": null,
   "metadata": {},
   "outputs": [],
   "source": [
    "count(Todo)"
   ]
  },
  {
   "cell_type": "markdown",
   "metadata": {},
   "source": [
    "But the true power is in the Finders API."
   ]
  },
  {
   "cell_type": "code",
   "execution_count": null,
   "metadata": {},
   "outputs": [],
   "source": [
    "find_one(Todo, 10) # find Todo with id 10"
   ]
  },
  {
   "cell_type": "code",
   "execution_count": null,
   "metadata": {},
   "outputs": [],
   "source": [
    "find_by(Todo, :completed, true) # find all completed Todos"
   ]
  },
  {
   "cell_type": "code",
   "execution_count": null,
   "metadata": {},
   "outputs": [],
   "source": [
    "# Find a Todo with this subject -- if it doesn't exist, create it\n",
    "# This one does exist\n",
    "todo = find_one_by_or_create(Todo, :subject, \"Hello JuliaCon!\") "
   ]
  },
  {
   "cell_type": "code",
   "execution_count": null,
   "metadata": {},
   "outputs": [],
   "source": [
    "is_persisted(todo)"
   ]
  },
  {
   "cell_type": "code",
   "execution_count": null,
   "metadata": {},
   "outputs": [],
   "source": [
    "# This one doesn't exist\n",
    "todo = find_one_by_or_create(Todo, :subject, \"Hello PyCon!\")"
   ]
  },
  {
   "cell_type": "code",
   "execution_count": null,
   "metadata": {},
   "outputs": [],
   "source": [
    "is_persisted(todo)"
   ]
  },
  {
   "cell_type": "code",
   "execution_count": null,
   "metadata": {
    "scrolled": true
   },
   "outputs": [],
   "source": [
    "save!(todo)"
   ]
  },
  {
   "cell_type": "code",
   "execution_count": null,
   "metadata": {
    "scrolled": true
   },
   "outputs": [],
   "source": [
    "is_persisted(todo) && delete(todo)"
   ]
  },
  {
   "cell_type": "markdown",
   "metadata": {},
   "source": [
    "Helper methods especially useful when working with forms data. "
   ]
  },
  {
   "cell_type": "code",
   "execution_count": null,
   "metadata": {},
   "outputs": [],
   "source": [
    "todo = create_with(\n",
    "           Todo, \n",
    "Dict(:subject => \"Hello London\", \n",
    "     :due_at => Dates.today() + Dates.Day(12)))"
   ]
  },
  {
   "cell_type": "code",
   "execution_count": null,
   "metadata": {},
   "outputs": [],
   "source": [
    "update_with!(\n",
    "todo, \n",
    "Dict(:subject => \"Bye London\", \n",
    "     :due_at => Dates.today() + Dates.Day(2)))"
   ]
  },
  {
   "cell_type": "code",
   "execution_count": null,
   "metadata": {},
   "outputs": [],
   "source": [
    "update_with!!(todo, Dict(:subject => \"Hello Barcelona\", :due_at => Dates.today() + Dates.Day(4)))"
   ]
  },
  {
   "cell_type": "markdown",
   "metadata": {},
   "source": [
    "### The QueryBuilder"
   ]
  },
  {
   "cell_type": "code",
   "execution_count": null,
   "metadata": {},
   "outputs": [],
   "source": [
    "using SearchLight.QueryBuilder"
   ]
  },
  {
   "cell_type": "code",
   "execution_count": null,
   "metadata": {},
   "outputs": [],
   "source": [
    "find(Todo, where(\"subject LIKE ?\", \"%Hello%\") + where(\"id >= ?\", 5))"
   ]
  },
  {
   "cell_type": "code",
   "execution_count": null,
   "metadata": {},
   "outputs": [],
   "source": [
    "q = where(\"completed = ?\", false) + \n",
    "    where(\"due_at BETWEEN ? AND ?\", Dates.today() - Dates.Day(7), Dates.today()) + \n",
    "    order(:due_at, :desc) + \n",
    "    limit(10)"
   ]
  },
  {
   "cell_type": "code",
   "execution_count": null,
   "metadata": {
    "scrolled": true
   },
   "outputs": [],
   "source": [
    "find(Todo, q)"
   ]
  },
  {
   "cell_type": "markdown",
   "metadata": {},
   "source": [
    "### We can progressively enhance our model to provide more features\n",
    "* Validators\n",
    "* Callbacks\n",
    "* Auto serialisation \n",
    "* Predefined query scopes"
   ]
  },
  {
   "cell_type": "code",
   "execution_count": null,
   "metadata": {},
   "outputs": [],
   "source": [
    "exit() # restart the Kernel"
   ]
  },
  {
   "cell_type": "code",
   "execution_count": null,
   "metadata": {},
   "outputs": [],
   "source": [
    "using Dates, SearchLight, SearchLight.Validation\n",
    "\n",
    "mutable struct Todo <: AbstractModel\n",
    "    subject::String\n",
    "    completed::Bool\n",
    "    due_at::Date\n",
    "    \n",
    "    id::DbId\n",
    "    \n",
    "    # validators\n",
    "    validator::ModelValidator\n",
    "    \n",
    "    # callbacks\n",
    "    before_save::Function\n",
    "    after_save::Function\n",
    "    on_save::Function\n",
    "    on_find::Function\n",
    "    after_find::Function\n",
    "    \n",
    "    Todo(;\n",
    "    subject = \"\",\n",
    "    completed = false,\n",
    "    due_at = Dates.today() + Dates.Week(1),\n",
    "        \n",
    "    id = DbId(),\n",
    "\n",
    "    validator = ModelValidator([\n",
    "      ValidationRule(:subject, not_empty),\n",
    "      ValidationRule(:due_at, date_in_the_future)\n",
    "    ]),\n",
    "\n",
    "    before_save = (m::Todo) -> begin\n",
    "      @info \"Before save\"\n",
    "    end,\n",
    "    after_save = (m::Todo) -> begin\n",
    "      @info \"After save\"\n",
    "    end,\n",
    "    on_save = (m::Todo, field::Symbol, value::Any) -> begin\n",
    "      @info \"On save\"\n",
    "    end,\n",
    "    on_find = (m::Todo, field::Symbol, value::Any) -> begin\n",
    "      @info \"On find\"\n",
    "    end,\n",
    "    after_find = (m::Todo) -> begin\n",
    "      @info \"After find\"\n",
    "    end\n",
    "        \n",
    "  ) = new(subject, completed, due_at, id, \n",
    "          validator,\n",
    "          before_save, after_save, on_save,\n",
    "          on_find, after_find,\n",
    "          )\n",
    "end"
   ]
  },
  {
   "cell_type": "markdown",
   "metadata": {},
   "source": [
    "Define the validation rules:"
   ]
  },
  {
   "cell_type": "code",
   "execution_count": null,
   "metadata": {},
   "outputs": [],
   "source": [
    "function not_empty(field::Symbol, m::T)::ValidationResult where {T<:AbstractModel}\n",
    "  isempty(getfield(m, field)) && return ValidationResult(invalid, :not_empty, \"should not be empty\")\n",
    "\n",
    "  ValidationResult(valid)\n",
    "end\n",
    "\n",
    "function date_in_the_future(field::Symbol, m::T)::ValidationResult where {T<:AbstractModel}\n",
    "  getfield(m, field) < Dates.today() && return ValidationResult(invalid, :future_date, \"should be in the future\")\n",
    "\n",
    "  ValidationResult(valid)\n",
    "end"
   ]
  },
  {
   "cell_type": "code",
   "execution_count": null,
   "metadata": {},
   "outputs": [],
   "source": [
    "Dict(\n",
    "    \"host\"     => \"127.0.0.1\",\n",
    "    \"username\" => \"adrian\",\n",
    "    \"port\"     => 5432, \n",
    "    \"database\" => \"todoapp_dev\",\n",
    "    \"adapter\"  => \"PostgreSQL\") |> SearchLight.Database.connect!"
   ]
  },
  {
   "cell_type": "code",
   "execution_count": null,
   "metadata": {},
   "outputs": [],
   "source": [
    "using SearchLight.QueryBuilder"
   ]
  },
  {
   "cell_type": "code",
   "execution_count": null,
   "metadata": {},
   "outputs": [],
   "source": [
    "overdue = find(Todo, where(\"due_at < ?\", Dates.today()) + limit(1)) |> first"
   ]
  },
  {
   "cell_type": "markdown",
   "metadata": {},
   "source": [
    "Overdue Todos can no longer be added."
   ]
  },
  {
   "cell_type": "code",
   "execution_count": null,
   "metadata": {},
   "outputs": [],
   "source": [
    "save!(overdue)"
   ]
  },
  {
   "cell_type": "markdown",
   "metadata": {},
   "source": [
    "### The lower level API (SQL strings, DataFrames and raw responses)"
   ]
  },
  {
   "cell_type": "markdown",
   "metadata": {},
   "source": [
    "We can retrive results as `DataFrame`."
   ]
  },
  {
   "cell_type": "code",
   "execution_count": null,
   "metadata": {},
   "outputs": [],
   "source": [
    "df = SearchLight.DataFrame(Todo, \n",
    "                        where(\"completed = ?\", false) + \n",
    "                        where(\"due_at < ?\", Dates.today()) + \n",
    "                        order(:due_at) + \n",
    "                        limit(10) + \n",
    "                        offset(2))"
   ]
  },
  {
   "cell_type": "code",
   "execution_count": null,
   "metadata": {},
   "outputs": [],
   "source": [
    "df = SearchLight.DataFrame(Todo, \n",
    "                            select(sql\"COUNT(id)\", :due_at) + \n",
    "                            where(\"completed = ?\", false) + \n",
    "                            group(:due_at))"
   ]
  },
  {
   "cell_type": "markdown",
   "metadata": {},
   "source": [
    "We can retrieve the autogenerated SQL as a `String`."
   ]
  },
  {
   "cell_type": "code",
   "execution_count": null,
   "metadata": {},
   "outputs": [],
   "source": [
    "todo = rand_one!!(Todo)"
   ]
  },
  {
   "cell_type": "code",
   "execution_count": null,
   "metadata": {
    "scrolled": true
   },
   "outputs": [],
   "source": [
    "query_sql = SearchLight.sql(Todo, where(\"due_at > ?\", Dates.today()) + limit(1))"
   ]
  },
  {
   "cell_type": "markdown",
   "metadata": {},
   "source": [
    "And we can use it to run a query. It will return a DataFrame. "
   ]
  },
  {
   "cell_type": "code",
   "execution_count": null,
   "metadata": {
    "scrolled": false
   },
   "outputs": [],
   "source": [
    "SearchLight.query(query_sql)"
   ]
  },
  {
   "cell_type": "markdown",
   "metadata": {},
   "source": [
    "We can also retrieve the raw result. "
   ]
  },
  {
   "cell_type": "code",
   "execution_count": null,
   "metadata": {
    "scrolled": true
   },
   "outputs": [],
   "source": [
    "SearchLight.query_raw(query_sql)"
   ]
  },
  {
   "cell_type": "code",
   "execution_count": null,
   "metadata": {},
   "outputs": [],
   "source": [
    "SearchLight.sql(todo)"
   ]
  },
  {
   "cell_type": "code",
   "execution_count": null,
   "metadata": {},
   "outputs": [],
   "source": [
    "todo = random()"
   ]
  },
  {
   "cell_type": "code",
   "execution_count": null,
   "metadata": {},
   "outputs": [],
   "source": [
    "SearchLight.sql(todo)"
   ]
  }
 ],
 "metadata": {
  "kernelspec": {
   "display_name": "Julia 0.7.0-beta2",
   "language": "julia",
   "name": "julia-0.7"
  },
  "language_info": {
   "file_extension": ".jl",
   "mimetype": "application/julia",
   "name": "julia",
   "version": "0.7.0"
  }
 },
 "nbformat": 4,
 "nbformat_minor": 2
}
